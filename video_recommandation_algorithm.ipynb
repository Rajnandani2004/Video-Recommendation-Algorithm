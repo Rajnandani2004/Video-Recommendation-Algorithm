{
 "cells": [
  {
   "cell_type": "code",
   "execution_count": null,
   "metadata": {
    "vscode": {
     "languageId": "plaintext"
    }
   },
   "outputs": [],
   "source": [
    "import requests\n",
    "import pandas as pd\n",
    "from sklearn.preprocessing import StandardScaler\n",
    "\n",
    "# API URLs\n",
    "API_URLS = {\n",
    "    'viewed': 'https://api.socialverseapp.com/posts/view?page=1&page_size=1000&resonance_algorithm=resonance_algorithm_cjsvervb7dbhss8bdrj89s44jfjdbsjd0xnjkbvuire8zcjwerui3njfbvsujc5if',\n",
    "    'liked': 'https://api.socialverseapp.com/posts/like?page=1&page_size=1000&resonance_algorithm=resonance_algorithm_cjsvervb7dbhss8bdrj89s44jfjdbsjd0xnjkbvuire8zcjwerui3njfbvsujc5if',\n",
    "    'inspired': 'https://api.socialverseapp.com/posts/inspire?page=1&page_size=1000&resonance_algorithm=resonance_algorithm_cjsvervb7dbhss8bdrj89s44jfjdbsjd0xnjkbvuire8zcjwerui3njfbvsujc5if',\n",
    "    'rated': 'https://api.socialverseapp.com/posts/rating?page=1&page_size=1000&resonance_algorithm=resonance_algorithm_cjsvervb7dbhss8bdrj89s44jfjdbsjd0xnjkbvuire8zcjwerui3njfbvsujc5if',\n",
    "    'posts': 'https://api.socialverseapp.com/posts/rating?page=1&page_size=1000&resonance_algorithm=resonance_algorithm_cjsvervb7dbhss8bdrj89s44jfjdbsjd0xnjkbvuire8zcjwerui3njfbvsujc5if',\n",
    "}\n",
    "\n",
    "# Authorization token\n",
    "HEADERS = {\n",
    "    \"Flic-Token\": \"flic_6e2d8d25dc29a4ddd382c2383a903cf4a688d1a117f6eb43b35a1e7fadbb84b8\"\n",
    "}\n",
    "\n",
    "def fetch_data(url):\n",
    "    response = requests.get(url, headers=HEADERS)\n",
    "    return response.json()\n",
    "\n",
    "# Fetch the data\n",
    "viewed_posts = fetch_data(API_URLS['viewed'])\n",
    "liked_posts = fetch_data(API_URLS['liked'])\n",
    "inspired_posts = fetch_data(API_URLS['inspired'])\n",
    "rated_posts = fetch_data(API_URLS['rated'])\n",
    "\n",
    "# Convert to DataFrames for easier processing\n",
    "viewed_df = pd.DataFrame(viewed_posts['data'])\n",
    "liked_df = pd.DataFrame(liked_posts['data'])\n",
    "inspired_df = pd.DataFrame(inspired_posts['data'])\n",
    "rated_df = pd.DataFrame(rated_posts['data'])\n",
    "\n",
    "# Preprocessing: Handling missing values and normalization\n",
    "def preprocess_data(df):\n",
    "    df.fillna(0, inplace=True)\n",
    "    scaler = StandardScaler()\n",
    "    return pd.DataFrame(scaler.fit_transform(df.select_dtypes(include=['float64', 'int64'])), columns=df.select_dtypes(include=['float64', 'int64']).columns)\n",
    "\n",
    "# Normalize data\n",
    "viewed_df = preprocess_data(viewed_df)\n",
    "liked_df = preprocess_data(liked_df)\n",
    "inspired_df = preprocess_data(inspired_df)\n",
    "rated_df = preprocess_data(rated_df)\n"
   ]
  },
  {
   "cell_type": "code",
   "execution_count": null,
   "metadata": {
    "vscode": {
     "languageId": "plaintext"
    }
   },
   "outputs": [],
   "source": [
    "from sklearn.metrics.pairwise import cosine_similarity\n",
    "\n",
    "def content_based_recommendation(user_data, video_metadata):\n",
    "    return cosine_similarity(user_data, video_metadata)\n",
    "\n",
    "def collaborative_filtering(user_data, all_users_data):\n",
    "    return cosine_similarity(user_data, all_users_data)\n",
    "\n",
    "# Example of combining both\n",
    "def hybrid_recommendation(user_data, video_metadata, all_users_data):\n",
    "    content_score = content_based_recommendation(user_data, video_metadata)\n",
    "    collaborative_score = collaborative_filtering(user_data, all_users_data)\n",
    "    return (content_score + collaborative_score) / 2\n"
   ]
  },
  {
   "cell_type": "code",
   "execution_count": null,
   "metadata": {
    "vscode": {
     "languageId": "plaintext"
    }
   },
   "outputs": [],
   "source": [
    "from flask import Flask, request, jsonify\n",
    "\n",
    "app = Flask(__name__)\n",
    "\n",
    "@app.route('/feed', methods=['GET'])\n",
    "def recommend_feed():\n",
    "    username = request.args.get('username')\n",
    "    category_id = request.args.get('category_id', default=None)\n",
    "    mood = request.args.get('mood', default=None)\n",
    "\n",
    "    # Fetch user data based on username\n",
    "    user_data = fetch_user_data(username)\n",
    "\n",
    "    # Fetch category data if category is provided\n",
    "    if category_id:\n",
    "        video_metadata = fetch_video_metadata(category_id)\n",
    "    else:\n",
    "        video_metadata = fetch_all_video_metadata()\n",
    "\n",
    "    # Handle cold start: If no user history or mood provided, recommend based on popular videos\n",
    "    if not user_data:\n",
    "        recommendations = recommend_popular_videos(mood)\n",
    "    else:\n",
    "        recommendations = hybrid_recommendation(user_data, video_metadata, all_users_data)\n",
    "\n",
    "    return jsonify({'recommended_posts': recommendations[:10]})\n",
    "\n",
    "def fetch_user_data(username):\n",
    "    # Placeholder: Fetch user data (interaction history, preferences, etc.)\n",
    "    return {}\n",
    "\n",
    "def fetch_video_metadata(category_id):\n",
    "    # Placeholder: Fetch videos by category\n",
    "    return {}\n",
    "\n",
    "def fetch_all_video_metadata():\n",
    "    # Placeholder: Fetch all available videos\n",
    "    return {}\n",
    "\n",
    "def recommend_popular_videos(mood):\n",
    "    # Placeholder: Recommend based on mood or popular videos\n",
    "    return []\n"
   ]
  },
  {
   "cell_type": "code",
   "execution_count": null,
   "metadata": {
    "vscode": {
     "languageId": "plaintext"
    }
   },
   "outputs": [],
   "source": [
    "if __name__ == '__main__':\n",
    "    app.run(debug=True)\n"
   ]
  }
 ],
 "metadata": {
  "language_info": {
   "name": "python"
  }
 },
 "nbformat": 4,
 "nbformat_minor": 2
}
